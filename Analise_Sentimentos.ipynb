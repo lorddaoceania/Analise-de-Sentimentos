{
  "cells": [
    {
      "cell_type": "markdown",
      "metadata": {
        "id": "qLj2C8mbh4Zh"
      },
      "source": [
        "# Projeto de análise de sentimentos"
      ]
    },
    {
      "cell_type": "markdown",
      "metadata": {
        "id": "dnC11JG_hciV"
      },
      "source": [
        "Esse projeto consiste em uma analise preditiva de uma base de dados com diversos comentários do IMDb que foram analisados como comentários positivos ou negativos, com base dessa análise é criado um modelo para classificar um comentário de forma totalmente automática."
      ]
    },
    {
      "cell_type": "code",
      "execution_count": 1,
      "metadata": {
        "id": "_SK3W9hudSLn"
      },
      "outputs": [
        {
          "name": "stderr",
          "output_type": "stream",
          "text": [
            "c:\\Users\\Suporte\\anaconda3\\Lib\\site-packages\\pandas\\core\\arrays\\masked.py:60: UserWarning: Pandas requires version '1.3.6' or newer of 'bottleneck' (version '1.3.5' currently installed).\n",
            "  from pandas.core import (\n"
          ]
        }
      ],
      "source": [
        " #Importando as bibliotecas necessárias\n",
        "import numpy as np\n",
        "import pandas as pd\n",
        "import matplotlib.pyplot as plt\n",
        "import nltk\n",
        "import re\n",
        "from sklearn.model_selection import train_test_split, GridSearchCV\n",
        "from sklearn.feature_extraction.text import CountVectorizer\n",
        "from nltk.corpus import stopwords\n",
        "from nltk.tokenize import word_tokenize\n",
        "from nltk.stem import SnowballStemmer\n",
        "from sklearn.metrics import accuracy_score, confusion_matrix, ConfusionMatrixDisplay\n",
        "import tensorflow as tf\n",
        "from tensorflow.keras import layers, models\n",
        "from keras.callbacks import Callback\n",
        "import pickle\n",
        "from scikeras.wrappers import KerasClassifier\n",
        "import joblib"
      ]
    },
    {
      "cell_type": "code",
      "execution_count": 2,
      "metadata": {
        "id": "Fc-ENPBnsXjD"
      },
      "outputs": [],
      "source": [
        "#Importando uma base de dados e a tranformando em um dataframe\n",
        "path = 'data\\IMDB-Dataset.csv'\n",
        "df = pd.read_csv(path)"
      ]
    },
    {
      "cell_type": "markdown",
      "metadata": {
        "id": "JFe-zTYriOos"
      },
      "source": [
        "# Analise exploratória de dados"
      ]
    },
    {
      "cell_type": "code",
      "execution_count": 3,
      "metadata": {
        "colab": {
          "base_uri": "https://localhost:8080/",
          "height": 423
        },
        "id": "cdJ5ytv0ss4g",
        "outputId": "1b558877-2ad0-4dc0-f0bc-d7cd7bd7e963"
      },
      "outputs": [
        {
          "data": {
            "text/html": [
              "<div>\n",
              "<style scoped>\n",
              "    .dataframe tbody tr th:only-of-type {\n",
              "        vertical-align: middle;\n",
              "    }\n",
              "\n",
              "    .dataframe tbody tr th {\n",
              "        vertical-align: top;\n",
              "    }\n",
              "\n",
              "    .dataframe thead th {\n",
              "        text-align: right;\n",
              "    }\n",
              "</style>\n",
              "<table border=\"1\" class=\"dataframe\">\n",
              "  <thead>\n",
              "    <tr style=\"text-align: right;\">\n",
              "      <th></th>\n",
              "      <th>review</th>\n",
              "      <th>sentiment</th>\n",
              "    </tr>\n",
              "  </thead>\n",
              "  <tbody>\n",
              "    <tr>\n",
              "      <th>0</th>\n",
              "      <td>One of the other reviewers has mentioned that ...</td>\n",
              "      <td>positive</td>\n",
              "    </tr>\n",
              "    <tr>\n",
              "      <th>1</th>\n",
              "      <td>A wonderful little production. &lt;br /&gt;&lt;br /&gt;The...</td>\n",
              "      <td>positive</td>\n",
              "    </tr>\n",
              "    <tr>\n",
              "      <th>2</th>\n",
              "      <td>I thought this was a wonderful way to spend ti...</td>\n",
              "      <td>positive</td>\n",
              "    </tr>\n",
              "    <tr>\n",
              "      <th>3</th>\n",
              "      <td>Basically there's a family where a little boy ...</td>\n",
              "      <td>negative</td>\n",
              "    </tr>\n",
              "    <tr>\n",
              "      <th>4</th>\n",
              "      <td>Petter Mattei's \"Love in the Time of Money\" is...</td>\n",
              "      <td>positive</td>\n",
              "    </tr>\n",
              "    <tr>\n",
              "      <th>...</th>\n",
              "      <td>...</td>\n",
              "      <td>...</td>\n",
              "    </tr>\n",
              "    <tr>\n",
              "      <th>49995</th>\n",
              "      <td>I thought this movie did a down right good job...</td>\n",
              "      <td>positive</td>\n",
              "    </tr>\n",
              "    <tr>\n",
              "      <th>49996</th>\n",
              "      <td>Bad plot, bad dialogue, bad acting, idiotic di...</td>\n",
              "      <td>negative</td>\n",
              "    </tr>\n",
              "    <tr>\n",
              "      <th>49997</th>\n",
              "      <td>I am a Catholic taught in parochial elementary...</td>\n",
              "      <td>negative</td>\n",
              "    </tr>\n",
              "    <tr>\n",
              "      <th>49998</th>\n",
              "      <td>I'm going to have to disagree with the previou...</td>\n",
              "      <td>negative</td>\n",
              "    </tr>\n",
              "    <tr>\n",
              "      <th>49999</th>\n",
              "      <td>No one expects the Star Trek movies to be high...</td>\n",
              "      <td>negative</td>\n",
              "    </tr>\n",
              "  </tbody>\n",
              "</table>\n",
              "<p>50000 rows × 2 columns</p>\n",
              "</div>"
            ],
            "text/plain": [
              "                                                  review sentiment\n",
              "0      One of the other reviewers has mentioned that ...  positive\n",
              "1      A wonderful little production. <br /><br />The...  positive\n",
              "2      I thought this was a wonderful way to spend ti...  positive\n",
              "3      Basically there's a family where a little boy ...  negative\n",
              "4      Petter Mattei's \"Love in the Time of Money\" is...  positive\n",
              "...                                                  ...       ...\n",
              "49995  I thought this movie did a down right good job...  positive\n",
              "49996  Bad plot, bad dialogue, bad acting, idiotic di...  negative\n",
              "49997  I am a Catholic taught in parochial elementary...  negative\n",
              "49998  I'm going to have to disagree with the previou...  negative\n",
              "49999  No one expects the Star Trek movies to be high...  negative\n",
              "\n",
              "[50000 rows x 2 columns]"
            ]
          },
          "execution_count": 3,
          "metadata": {},
          "output_type": "execute_result"
        }
      ],
      "source": [
        "df"
      ]
    },
    {
      "cell_type": "code",
      "execution_count": 4,
      "metadata": {
        "colab": {
          "base_uri": "https://localhost:8080/",
          "height": 175
        },
        "id": "2KsvCmMps2Zq",
        "outputId": "f01412e6-cb60-46ab-9f0d-e3a2b525e3ed"
      },
      "outputs": [
        {
          "data": {
            "text/html": [
              "<div>\n",
              "<style scoped>\n",
              "    .dataframe tbody tr th:only-of-type {\n",
              "        vertical-align: middle;\n",
              "    }\n",
              "\n",
              "    .dataframe tbody tr th {\n",
              "        vertical-align: top;\n",
              "    }\n",
              "\n",
              "    .dataframe thead th {\n",
              "        text-align: right;\n",
              "    }\n",
              "</style>\n",
              "<table border=\"1\" class=\"dataframe\">\n",
              "  <thead>\n",
              "    <tr style=\"text-align: right;\">\n",
              "      <th></th>\n",
              "      <th>review</th>\n",
              "      <th>sentiment</th>\n",
              "    </tr>\n",
              "  </thead>\n",
              "  <tbody>\n",
              "    <tr>\n",
              "      <th>count</th>\n",
              "      <td>50000</td>\n",
              "      <td>50000</td>\n",
              "    </tr>\n",
              "    <tr>\n",
              "      <th>unique</th>\n",
              "      <td>49582</td>\n",
              "      <td>2</td>\n",
              "    </tr>\n",
              "    <tr>\n",
              "      <th>top</th>\n",
              "      <td>Loved today's show!!! It was a variety and not...</td>\n",
              "      <td>positive</td>\n",
              "    </tr>\n",
              "    <tr>\n",
              "      <th>freq</th>\n",
              "      <td>5</td>\n",
              "      <td>25000</td>\n",
              "    </tr>\n",
              "  </tbody>\n",
              "</table>\n",
              "</div>"
            ],
            "text/plain": [
              "                                                   review sentiment\n",
              "count                                               50000     50000\n",
              "unique                                              49582         2\n",
              "top     Loved today's show!!! It was a variety and not...  positive\n",
              "freq                                                    5     25000"
            ]
          },
          "execution_count": 4,
          "metadata": {},
          "output_type": "execute_result"
        }
      ],
      "source": [
        "df.describe()"
      ]
    },
    {
      "cell_type": "code",
      "execution_count": 5,
      "metadata": {
        "colab": {
          "base_uri": "https://localhost:8080/"
        },
        "id": "QpKHc36MtX0l",
        "outputId": "15f88b11-64ee-4131-eb27-05bf4f15b336"
      },
      "outputs": [
        {
          "data": {
            "text/plain": [
              "review       25000\n",
              "sentiment    25000\n",
              "dtype: int64"
            ]
          },
          "execution_count": 5,
          "metadata": {},
          "output_type": "execute_result"
        }
      ],
      "source": [
        "df[df['sentiment'] == 'positive'].count()"
      ]
    },
    {
      "cell_type": "code",
      "execution_count": 6,
      "metadata": {
        "colab": {
          "base_uri": "https://localhost:8080/"
        },
        "id": "07wrK-KgtqZ_",
        "outputId": "c16f00ad-320f-45ab-93ba-81a9cf7f48d8"
      },
      "outputs": [
        {
          "data": {
            "text/plain": [
              "review       25000\n",
              "sentiment    25000\n",
              "dtype: int64"
            ]
          },
          "execution_count": 6,
          "metadata": {},
          "output_type": "execute_result"
        }
      ],
      "source": [
        "df[df['sentiment'] == 'negative'].count()"
      ]
    },
    {
      "cell_type": "code",
      "execution_count": 7,
      "metadata": {
        "colab": {
          "base_uri": "https://localhost:8080/",
          "height": 157
        },
        "id": "FtOOa2_jPu1c",
        "outputId": "1e47b1e4-b4d7-46ca-f7be-b69a7f0f3d95"
      },
      "outputs": [
        {
          "data": {
            "text/plain": [
              "\"One of the other reviewers has mentioned that after watching just 1 Oz episode you'll be hooked. They are right, as this is exactly what happened with me.<br /><br />The first thing that struck me about Oz was its brutality and unflinching scenes of violence, which set in right from the word GO. Trust me, this is not a show for the faint hearted or timid. This show pulls no punches with regards to drugs, sex or violence. Its is hardcore, in the classic use of the word.<br /><br />It is called OZ as that is the nickname given to the Oswald Maximum Security State Penitentary. It focuses mainly on Emerald City, an experimental section of the prison where all the cells have glass fronts and face inwards, so privacy is not high on the agenda. Em City is home to many..Aryans, Muslims, gangstas, Latinos, Christians, Italians, Irish and more....so scuffles, death stares, dodgy dealings and shady agreements are never far away.<br /><br />I would say the main appeal of the show is due to the fact that it goes where other shows wouldn't dare. Forget pretty pictures painted for mainstream audiences, forget charm, forget romance...OZ doesn't mess around. The first episode I ever saw struck me as so nasty it was surreal, I couldn't say I was ready for it, but as I watched more, I developed a taste for Oz, and got accustomed to the high levels of graphic violence. Not just violence, but injustice (crooked guards who'll be sold out for a nickel, inmates who'll kill on order and get away with it, well mannered, middle class inmates being turned into prison bitches due to their lack of street skills or prison experience) Watching Oz, you may become comfortable with what is uncomfortable viewing....thats if you can get in touch with your darker side.\""
            ]
          },
          "execution_count": 7,
          "metadata": {},
          "output_type": "execute_result"
        }
      ],
      "source": [
        "df['review'][0]"
      ]
    },
    {
      "cell_type": "code",
      "execution_count": 8,
      "metadata": {
        "colab": {
          "base_uri": "https://localhost:8080/",
          "height": 157
        },
        "id": "uBD7njxeR3tO",
        "outputId": "e4f53adc-f024-4ef3-f9b4-b2b3b0f6c1ba"
      },
      "outputs": [
        {
          "data": {
            "text/plain": [
              "\"One of the other reviewers has mentioned that after watching just 1 Oz episode you'll be hooked. They are right, as this is exactly what happened with me.The first thing that struck me about Oz was its brutality and unflinching scenes of violence, which set in right from the word GO. Trust me, this is not a show for the faint hearted or timid. This show pulls no punches with regards to drugs, sex or violence. Its is hardcore, in the classic use of the word.It is called OZ as that is the nickname given to the Oswald Maximum Security State Penitentary. It focuses mainly on Emerald City, an experimental section of the prison where all the cells have glass fronts and face inwards, so privacy is not high on the agenda. Em City is home to many..Aryans, Muslims, gangstas, Latinos, Christians, Italians, Irish and more....so scuffles, death stares, dodgy dealings and shady agreements are never far away.I would say the main appeal of the show is due to the fact that it goes where other shows wouldn't dare. Forget pretty pictures painted for mainstream audiences, forget charm, forget romance...OZ doesn't mess around. The first episode I ever saw struck me as so nasty it was surreal, I couldn't say I was ready for it, but as I watched more, I developed a taste for Oz, and got accustomed to the high levels of graphic violence. Not just violence, but injustice (crooked guards who'll be sold out for a nickel, inmates who'll kill on order and get away with it, well mannered, middle class inmates being turned into prison bitches due to their lack of street skills or prison experience) Watching Oz, you may become comfortable with what is uncomfortable viewing....thats if you can get in touch with your darker side.\""
            ]
          },
          "execution_count": 8,
          "metadata": {},
          "output_type": "execute_result"
        }
      ],
      "source": [
        "def text_clear(text):\n",
        "  cleaned = re.compile(r'<.*?>')\n",
        "  return re.sub(cleaned, '', text)\n",
        "\n",
        "df.review = df.review.apply(text_clear)\n",
        "df.review[0]"
      ]
    },
    {
      "cell_type": "code",
      "execution_count": 9,
      "metadata": {
        "colab": {
          "base_uri": "https://localhost:8080/",
          "height": 157
        },
        "id": "LAr9jzPhS2BQ",
        "outputId": "cfae2c1d-4255-4075-be02-7772bdefa0c8"
      },
      "outputs": [
        {
          "data": {
            "text/plain": [
              "'One of the other reviewers has mentioned that after watching just 1 Oz episode you ll be hooked  They are right  as this is exactly what happened with me The first thing that struck me about Oz was its brutality and unflinching scenes of violence  which set in right from the word GO  Trust me  this is not a show for the faint hearted or timid  This show pulls no punches with regards to drugs  sex or violence  Its is hardcore  in the classic use of the word It is called OZ as that is the nickname given to the Oswald Maximum Security State Penitentary  It focuses mainly on Emerald City  an experimental section of the prison where all the cells have glass fronts and face inwards  so privacy is not high on the agenda  Em City is home to many  Aryans  Muslims  gangstas  Latinos  Christians  Italians  Irish and more    so scuffles  death stares  dodgy dealings and shady agreements are never far away I would say the main appeal of the show is due to the fact that it goes where other shows wouldn t dare  Forget pretty pictures painted for mainstream audiences  forget charm  forget romance   OZ doesn t mess around  The first episode I ever saw struck me as so nasty it was surreal  I couldn t say I was ready for it  but as I watched more  I developed a taste for Oz  and got accustomed to the high levels of graphic violence  Not just violence  but injustice  crooked guards who ll be sold out for a nickel  inmates who ll kill on order and get away with it  well mannered  middle class inmates being turned into prison bitches due to their lack of street skills or prison experience  Watching Oz  you may become comfortable with what is uncomfortable viewing    thats if you can get in touch with your darker side '"
            ]
          },
          "execution_count": 9,
          "metadata": {},
          "output_type": "execute_result"
        }
      ],
      "source": [
        "def is_special(text):\n",
        "    rem = ''\n",
        "    for i in text:\n",
        "        if i.isalnum():\n",
        "          rem = rem + i\n",
        "        else:\n",
        "          rem = rem + ' '\n",
        "    return rem\n",
        "\n",
        "df['review']= df['review'].apply(is_special)\n",
        "df['review'][0]"
      ]
    },
    {
      "cell_type": "code",
      "execution_count": 10,
      "metadata": {
        "colab": {
          "base_uri": "https://localhost:8080/",
          "height": 157
        },
        "id": "ds6sNPAYYiLl",
        "outputId": "dfaa18a7-1ea3-4735-b169-40882903d17e"
      },
      "outputs": [
        {
          "data": {
            "text/plain": [
              "'one of the other reviewers has mentioned that after watching just 1 oz episode you ll be hooked  they are right  as this is exactly what happened with me the first thing that struck me about oz was its brutality and unflinching scenes of violence  which set in right from the word go  trust me  this is not a show for the faint hearted or timid  this show pulls no punches with regards to drugs  sex or violence  its is hardcore  in the classic use of the word it is called oz as that is the nickname given to the oswald maximum security state penitentary  it focuses mainly on emerald city  an experimental section of the prison where all the cells have glass fronts and face inwards  so privacy is not high on the agenda  em city is home to many  aryans  muslims  gangstas  latinos  christians  italians  irish and more    so scuffles  death stares  dodgy dealings and shady agreements are never far away i would say the main appeal of the show is due to the fact that it goes where other shows wouldn t dare  forget pretty pictures painted for mainstream audiences  forget charm  forget romance   oz doesn t mess around  the first episode i ever saw struck me as so nasty it was surreal  i couldn t say i was ready for it  but as i watched more  i developed a taste for oz  and got accustomed to the high levels of graphic violence  not just violence  but injustice  crooked guards who ll be sold out for a nickel  inmates who ll kill on order and get away with it  well mannered  middle class inmates being turned into prison bitches due to their lack of street skills or prison experience  watching oz  you may become comfortable with what is uncomfortable viewing    thats if you can get in touch with your darker side '"
            ]
          },
          "execution_count": 10,
          "metadata": {},
          "output_type": "execute_result"
        }
      ],
      "source": [
        "def to_lower(text):\n",
        "  return text.lower()\n",
        "\n",
        "df['review'] = df['review'].apply(to_lower)\n",
        "df['review'][0]"
      ]
    },
    {
      "cell_type": "code",
      "execution_count": 11,
      "metadata": {
        "colab": {
          "base_uri": "https://localhost:8080/"
        },
        "id": "M2AiX0giY63M",
        "outputId": "d3215069-5641-4aaa-f2b0-7a99ec9996cc"
      },
      "outputs": [
        {
          "name": "stderr",
          "output_type": "stream",
          "text": [
            "[nltk_data] Downloading package stopwords to\n",
            "[nltk_data]     C:\\Users\\Suporte\\AppData\\Roaming\\nltk_data...\n",
            "[nltk_data]   Package stopwords is already up-to-date!\n",
            "[nltk_data] Downloading package punkt to\n",
            "[nltk_data]     C:\\Users\\Suporte\\AppData\\Roaming\\nltk_data...\n",
            "[nltk_data]   Package punkt is already up-to-date!\n"
          ]
        },
        {
          "data": {
            "text/plain": [
              "['one',\n",
              " 'reviewers',\n",
              " 'mentioned',\n",
              " 'watching',\n",
              " '1',\n",
              " 'oz',\n",
              " 'episode',\n",
              " 'hooked',\n",
              " 'right',\n",
              " 'exactly',\n",
              " 'happened',\n",
              " 'first',\n",
              " 'thing',\n",
              " 'struck',\n",
              " 'oz',\n",
              " 'brutality',\n",
              " 'unflinching',\n",
              " 'scenes',\n",
              " 'violence',\n",
              " 'set',\n",
              " 'right',\n",
              " 'word',\n",
              " 'go',\n",
              " 'trust',\n",
              " 'show',\n",
              " 'faint',\n",
              " 'hearted',\n",
              " 'timid',\n",
              " 'show',\n",
              " 'pulls',\n",
              " 'punches',\n",
              " 'regards',\n",
              " 'drugs',\n",
              " 'sex',\n",
              " 'violence',\n",
              " 'hardcore',\n",
              " 'classic',\n",
              " 'use',\n",
              " 'word',\n",
              " 'called',\n",
              " 'oz',\n",
              " 'nickname',\n",
              " 'given',\n",
              " 'oswald',\n",
              " 'maximum',\n",
              " 'security',\n",
              " 'state',\n",
              " 'penitentary',\n",
              " 'focuses',\n",
              " 'mainly',\n",
              " 'emerald',\n",
              " 'city',\n",
              " 'experimental',\n",
              " 'section',\n",
              " 'prison',\n",
              " 'cells',\n",
              " 'glass',\n",
              " 'fronts',\n",
              " 'face',\n",
              " 'inwards',\n",
              " 'privacy',\n",
              " 'high',\n",
              " 'agenda',\n",
              " 'em',\n",
              " 'city',\n",
              " 'home',\n",
              " 'many',\n",
              " 'aryans',\n",
              " 'muslims',\n",
              " 'gangstas',\n",
              " 'latinos',\n",
              " 'christians',\n",
              " 'italians',\n",
              " 'irish',\n",
              " 'scuffles',\n",
              " 'death',\n",
              " 'stares',\n",
              " 'dodgy',\n",
              " 'dealings',\n",
              " 'shady',\n",
              " 'agreements',\n",
              " 'never',\n",
              " 'far',\n",
              " 'away',\n",
              " 'would',\n",
              " 'say',\n",
              " 'main',\n",
              " 'appeal',\n",
              " 'show',\n",
              " 'due',\n",
              " 'fact',\n",
              " 'goes',\n",
              " 'shows',\n",
              " 'dare',\n",
              " 'forget',\n",
              " 'pretty',\n",
              " 'pictures',\n",
              " 'painted',\n",
              " 'mainstream',\n",
              " 'audiences',\n",
              " 'forget',\n",
              " 'charm',\n",
              " 'forget',\n",
              " 'romance',\n",
              " 'oz',\n",
              " 'mess',\n",
              " 'around',\n",
              " 'first',\n",
              " 'episode',\n",
              " 'ever',\n",
              " 'saw',\n",
              " 'struck',\n",
              " 'nasty',\n",
              " 'surreal',\n",
              " 'say',\n",
              " 'ready',\n",
              " 'watched',\n",
              " 'developed',\n",
              " 'taste',\n",
              " 'oz',\n",
              " 'got',\n",
              " 'accustomed',\n",
              " 'high',\n",
              " 'levels',\n",
              " 'graphic',\n",
              " 'violence',\n",
              " 'violence',\n",
              " 'injustice',\n",
              " 'crooked',\n",
              " 'guards',\n",
              " 'sold',\n",
              " 'nickel',\n",
              " 'inmates',\n",
              " 'kill',\n",
              " 'order',\n",
              " 'get',\n",
              " 'away',\n",
              " 'well',\n",
              " 'mannered',\n",
              " 'middle',\n",
              " 'class',\n",
              " 'inmates',\n",
              " 'turned',\n",
              " 'prison',\n",
              " 'bitches',\n",
              " 'due',\n",
              " 'lack',\n",
              " 'street',\n",
              " 'skills',\n",
              " 'prison',\n",
              " 'experience',\n",
              " 'watching',\n",
              " 'oz',\n",
              " 'may',\n",
              " 'become',\n",
              " 'comfortable',\n",
              " 'uncomfortable',\n",
              " 'viewing',\n",
              " 'thats',\n",
              " 'get',\n",
              " 'touch',\n",
              " 'darker',\n",
              " 'side']"
            ]
          },
          "execution_count": 11,
          "metadata": {},
          "output_type": "execute_result"
        }
      ],
      "source": [
        "nltk.download('stopwords')\n",
        "nltk.download('punkt')\n",
        "\n",
        "\n",
        "def rem_stopwords(text):\n",
        "  stop_words = set(stopwords.words('english'))\n",
        "  words = word_tokenize(text)\n",
        "  return [w for w in words if w not in stop_words]\n",
        "\n",
        "df['review'] = df['review'].apply(rem_stopwords)\n",
        "df['review'][0]"
      ]
    },
    {
      "cell_type": "code",
      "execution_count": 12,
      "metadata": {
        "colab": {
          "base_uri": "https://localhost:8080/",
          "height": 157
        },
        "id": "cpzqkveIavG9",
        "outputId": "e168f69d-7405-4b00-efcd-e12275ebd398"
      },
      "outputs": [
        {
          "data": {
            "text/plain": [
              "'one review mention watch 1 oz episod hook right exact happen first thing struck oz brutal unflinch scene violenc set right word go trust show faint heart timid show pull punch regard drug sex violenc hardcor classic use word call oz nicknam given oswald maximum secur state penitentari focus main emerald citi experiment section prison cell glass front face inward privaci high agenda em citi home mani aryan muslim gangsta latino christian italian irish scuffl death stare dodgi deal shadi agreement never far away would say main appeal show due fact goe show dare forget pretti pictur paint mainstream audienc forget charm forget romanc oz mess around first episod ever saw struck nasti surreal say readi watch develop tast oz got accustom high level graphic violenc violenc injustic crook guard sold nickel inmat kill order get away well manner middl class inmat turn prison bitch due lack street skill prison experi watch oz may becom comfort uncomfort view that get touch darker side'"
            ]
          },
          "execution_count": 12,
          "metadata": {},
          "output_type": "execute_result"
        }
      ],
      "source": [
        "def stem_txt(text):\n",
        "  ss = SnowballStemmer('english')\n",
        "  return \" \".join([ss.stem(w) for w in text])\n",
        "\n",
        "df['review'] = df['review'].apply(stem_txt)\n",
        "df['review'][0]"
      ]
    },
    {
      "cell_type": "code",
      "execution_count": 13,
      "metadata": {
        "colab": {
          "base_uri": "https://localhost:8080/"
        },
        "id": "TT740Yhqa1sy",
        "outputId": "0055fa0f-13d3-4675-b68d-5dba386b43f9"
      },
      "outputs": [
        {
          "name": "stdout",
          "output_type": "stream",
          "text": [
            "(50000, 1000)\n",
            "(50000,)\n"
          ]
        }
      ],
      "source": [
        "\n",
        "cv = CountVectorizer(max_features=1000)\n",
        "x = cv.fit_transform(df['review']).toarray()\n",
        "y = np.where(df['sentiment'] == 'positive', 1, 0)\n",
        "print(x.shape)\n",
        "print(y.shape)"
      ]
    },
    {
      "cell_type": "code",
      "execution_count": 30,
      "metadata": {
        "id": "hRKw5diCdkTZ"
      },
      "outputs": [],
      "source": [
        "#create train test  validation sets\n",
        "x_train, x_test, y_train, y_test = train_test_split(x,y, test_size = 0.2, random_state = 9)\n",
        "x_train, x_val, y_train, y_val = train_test_split(x_train, y_train, test_size = 0.2, random_state = 9)"
      ]
    },
    {
      "cell_type": "markdown",
      "metadata": {
        "id": "28ulhY5OjD8Z"
      },
      "source": [
        "#Configurando e treinando os modelos preditivos"
      ]
    },
    {
      "cell_type": "code",
      "execution_count": 31,
      "metadata": {},
      "outputs": [],
      "source": [
        "class HistoryCallback(Callback):\n",
        "    def on_epoch_end(self, epoch, logs=None):\n",
        "        if not hasattr(self, 'history_data'):\n",
        "            self.history_data = {'epoch': [], 'loss': [], 'accuracy': [], 'val_loss': [], 'val_accuracy': []}\n",
        "        \n",
        "        self.history_data['epoch'].append(epoch)\n",
        "        self.history_data['loss'].append(logs.get('loss'))\n",
        "        self.history_data['accuracy'].append(logs.get('accuracy'))\n",
        "        self.history_data['val_loss'].append(logs.get('val_loss'))\n",
        "        self.history_data['val_accuracy'].append(logs.get('val_accuracy'))\n",
        "\n",
        "    def on_train_end(self, logs=None):\n",
        "        df = pd.DataFrame(self.history_data)\n",
        "        df.to_csv('training_history.csv', index=False)"
      ]
    },
    {
      "cell_type": "code",
      "execution_count": 32,
      "metadata": {
        "colab": {
          "base_uri": "https://localhost:8080/",
          "height": 74
        },
        "id": "Zw3s5-O1d2pR",
        "outputId": "9cedde2c-f155-4a6f-da83-50d5d2f10fda"
      },
      "outputs": [],
      "source": [
        "def create_model(learning_rate=0.001, dropout_rate=0.2, optimizer='adam'):\n",
        "    model = models.Sequential()\n",
        "    model.add(layers.Dense(128, activation='relu', input_shape=(x_train.shape[1],)))\n",
        "    model.add(layers.Dropout(dropout_rate))\n",
        "    model.add(layers.Dense(64, activation='relu'))\n",
        "    model.add(layers.Dropout(dropout_rate))\n",
        "    model.add(layers.Dense(1, activation='sigmoid'))\n",
        "    \n",
        "    if optimizer == 'adam':\n",
        "        optimizer_instance = tf.keras.optimizers.Adam(learning_rate=learning_rate)\n",
        "    elif optimizer == 'rmsprop':\n",
        "        optimizer_instance = tf.keras.optimizers.RMSprop(learning_rate=learning_rate)\n",
        "    \n",
        "    model.compile(optimizer=optimizer_instance, loss='binary_crossentropy', metrics=['accuracy'])\n",
        "    return model"
      ]
    },
    {
      "cell_type": "code",
      "execution_count": 47,
      "metadata": {
        "colab": {
          "base_uri": "https://localhost:8080/",
          "height": 74
        },
        "id": "RGOZ2A7Xc3dF",
        "outputId": "38b01850-2953-45cb-9f61-bbf90d573247"
      },
      "outputs": [
        {
          "name": "stdout",
          "output_type": "stream",
          "text": [
            "334/334 [==============================] - 1s 1ms/step\n",
            "334/334 [==============================] - 1s 1ms/step\n",
            "334/334 [==============================] - 0s 1ms/step\n",
            "334/334 [==============================] - 1s 1ms/step\n",
            "334/334 [==============================] - 0s 1ms/step\n",
            "334/334 [==============================] - 1s 1ms/step\n",
            "334/334 [==============================] - 0s 1ms/step\n",
            "334/334 [==============================] - 0s 1ms/step\n",
            "334/334 [==============================] - 0s 1ms/step\n",
            "334/334 [==============================] - 1s 1ms/step\n",
            "334/334 [==============================] - 0s 1ms/step\n",
            "334/334 [==============================] - 1s 1ms/step\n",
            "334/334 [==============================] - 0s 1ms/step\n",
            "334/334 [==============================] - 1s 1ms/step\n",
            "334/334 [==============================] - 1s 1ms/step\n",
            "334/334 [==============================] - 1s 1ms/step\n",
            "334/334 [==============================] - 1s 1ms/step\n",
            "334/334 [==============================] - 1s 1ms/step\n",
            "334/334 [==============================] - 1s 1ms/step\n",
            "334/334 [==============================] - 1s 1ms/step\n",
            "334/334 [==============================] - 1s 1ms/step\n",
            "334/334 [==============================] - 1s 2ms/step\n",
            "334/334 [==============================] - 1s 2ms/step\n",
            "334/334 [==============================] - 1s 1ms/step\n",
            "334/334 [==============================] - 1s 1ms/step\n",
            "334/334 [==============================] - 1s 1ms/step\n",
            "334/334 [==============================] - 1s 1ms/step\n",
            "334/334 [==============================] - 1s 1ms/step\n",
            "334/334 [==============================] - 1s 1ms/step\n",
            "334/334 [==============================] - 1s 1ms/step\n",
            "334/334 [==============================] - 1s 2ms/step\n",
            "334/334 [==============================] - 1s 1ms/step\n",
            "334/334 [==============================] - 1s 2ms/step\n",
            "334/334 [==============================] - 1s 1ms/step\n",
            "334/334 [==============================] - 1s 1ms/step\n",
            "334/334 [==============================] - 1s 1ms/step\n",
            "334/334 [==============================] - 1s 1ms/step\n",
            "334/334 [==============================] - 1s 1ms/step\n",
            "334/334 [==============================] - 1s 1ms/step\n",
            "334/334 [==============================] - 1s 1ms/step\n",
            "334/334 [==============================] - 0s 1ms/step\n",
            "334/334 [==============================] - 1s 1ms/step\n",
            "334/334 [==============================] - 1s 1ms/step\n",
            "334/334 [==============================] - 0s 1ms/step\n",
            "334/334 [==============================] - 1s 1ms/step\n",
            "334/334 [==============================] - 1s 1ms/step\n",
            "334/334 [==============================] - 1s 1ms/step\n",
            "334/334 [==============================] - 1s 1ms/step\n",
            "334/334 [==============================] - 0s 1ms/step\n",
            "334/334 [==============================] - 0s 1ms/step\n",
            "334/334 [==============================] - 1s 1ms/step\n",
            "334/334 [==============================] - 1s 1ms/step\n",
            "334/334 [==============================] - 1s 1ms/step\n",
            "334/334 [==============================] - 1s 1ms/step\n",
            "334/334 [==============================] - 1s 1ms/step\n",
            "334/334 [==============================] - 1s 2ms/step\n",
            "334/334 [==============================] - 1s 1ms/step\n",
            "334/334 [==============================] - 1s 1ms/step\n",
            "334/334 [==============================] - 1s 1ms/step\n",
            "334/334 [==============================] - 1s 1ms/step\n",
            "334/334 [==============================] - 1s 2ms/step\n",
            "334/334 [==============================] - 1s 2ms/step\n",
            "334/334 [==============================] - 1s 2ms/step\n",
            "334/334 [==============================] - 1s 1ms/step\n",
            "334/334 [==============================] - 1s 1ms/step\n",
            "334/334 [==============================] - 1s 1ms/step\n",
            "334/334 [==============================] - 1s 1ms/step\n",
            "334/334 [==============================] - 1s 1ms/step\n",
            "334/334 [==============================] - 1s 1ms/step\n",
            "334/334 [==============================] - 1s 1ms/step\n",
            "334/334 [==============================] - 1s 1ms/step\n",
            "334/334 [==============================] - 1s 2ms/step\n",
            "167/167 [==============================] - 0s 2ms/step\n",
            "167/167 [==============================] - 0s 2ms/step\n",
            "167/167 [==============================] - 0s 2ms/step\n",
            "167/167 [==============================] - 0s 2ms/step\n",
            "167/167 [==============================] - 0s 2ms/step\n",
            "167/167 [==============================] - 0s 2ms/step\n",
            "167/167 [==============================] - 0s 2ms/step\n",
            "167/167 [==============================] - 0s 2ms/step\n",
            "167/167 [==============================] - 0s 2ms/step\n",
            "167/167 [==============================] - 0s 2ms/step\n",
            "167/167 [==============================] - 0s 2ms/step\n",
            "167/167 [==============================] - 0s 2ms/step\n",
            "167/167 [==============================] - 0s 2ms/step\n",
            "167/167 [==============================] - 0s 2ms/step\n",
            "167/167 [==============================] - 0s 2ms/step\n",
            "167/167 [==============================] - 0s 2ms/step\n",
            "167/167 [==============================] - 0s 2ms/step\n",
            "167/167 [==============================] - 0s 2ms/step\n",
            "167/167 [==============================] - 0s 2ms/step\n",
            "167/167 [==============================] - 0s 2ms/step\n",
            "167/167 [==============================] - 0s 2ms/step\n",
            "167/167 [==============================] - 0s 2ms/step\n",
            "167/167 [==============================] - 0s 2ms/step\n",
            "167/167 [==============================] - 0s 2ms/step\n",
            "167/167 [==============================] - 0s 2ms/step\n",
            "167/167 [==============================] - 0s 2ms/step\n",
            "167/167 [==============================] - 0s 2ms/step\n",
            "167/167 [==============================] - 1s 2ms/step\n",
            "167/167 [==============================] - 1s 2ms/step\n",
            "167/167 [==============================] - 0s 2ms/step\n",
            "167/167 [==============================] - 0s 2ms/step\n",
            "167/167 [==============================] - 0s 2ms/step\n",
            "167/167 [==============================] - 0s 2ms/step\n",
            "167/167 [==============================] - 0s 2ms/step\n",
            "167/167 [==============================] - 0s 2ms/step\n",
            "167/167 [==============================] - 0s 2ms/step\n",
            "167/167 [==============================] - 0s 2ms/step\n",
            "167/167 [==============================] - 0s 2ms/step\n",
            "167/167 [==============================] - 0s 2ms/step\n",
            "167/167 [==============================] - 0s 2ms/step\n",
            "167/167 [==============================] - 0s 2ms/step\n",
            "167/167 [==============================] - 0s 2ms/step\n",
            "167/167 [==============================] - 0s 2ms/step\n",
            "167/167 [==============================] - 0s 2ms/step\n",
            "167/167 [==============================] - 0s 2ms/step\n",
            "167/167 [==============================] - 0s 2ms/step\n",
            "167/167 [==============================] - 0s 1ms/step\n",
            "167/167 [==============================] - 0s 2ms/step\n",
            "167/167 [==============================] - 0s 2ms/step\n",
            "167/167 [==============================] - 0s 2ms/step\n",
            "167/167 [==============================] - 0s 2ms/step\n",
            "167/167 [==============================] - 0s 2ms/step\n",
            "167/167 [==============================] - 0s 2ms/step\n",
            "167/167 [==============================] - 0s 2ms/step\n",
            "167/167 [==============================] - 0s 2ms/step\n",
            "167/167 [==============================] - 0s 2ms/step\n",
            "167/167 [==============================] - 0s 2ms/step\n",
            "167/167 [==============================] - 0s 2ms/step\n",
            "167/167 [==============================] - 0s 2ms/step\n",
            "167/167 [==============================] - 0s 2ms/step\n",
            "167/167 [==============================] - 0s 2ms/step\n",
            "167/167 [==============================] - 0s 2ms/step\n",
            "167/167 [==============================] - 0s 2ms/step\n",
            "167/167 [==============================] - 0s 2ms/step\n",
            "167/167 [==============================] - 0s 2ms/step\n",
            "167/167 [==============================] - 0s 2ms/step\n",
            "167/167 [==============================] - 0s 2ms/step\n",
            "167/167 [==============================] - 0s 2ms/step\n",
            "167/167 [==============================] - 0s 2ms/step\n",
            "167/167 [==============================] - 0s 2ms/step\n",
            "167/167 [==============================] - 0s 2ms/step\n",
            "167/167 [==============================] - 0s 2ms/step\n",
            "Best: 0.8501248288034877 using {'batch_size': 64, 'dropout_rate': 0.3, 'epochs': 20, 'learning_rate': 0.001, 'optimizer': 'adam'}\n"
          ]
        }
      ],
      "source": [
        "model = KerasClassifier(model=create_model, dropout_rate=0.2,optimizer='adam', learning_rate=0.001)\n",
        "\n",
        "param_grid = {\n",
        "    'optimizer': ['adam', 'rmsprop'],\n",
        "    'epochs': [10, 20],\n",
        "    'batch_size': [32, 64],\n",
        "    'learning_rate': [0.001, 0.01, 0.1], \n",
        "    'dropout_rate': [0.2, 0.3]\n",
        "}\n",
        "\n",
        "grid = GridSearchCV(estimator=model, param_grid=param_grid, cv=3)\n",
        "grid_result = grid.fit(x_train, y_train, validation_data=(x_val, y_val), verbose=0)\n",
        "print(f'Best: {grid_result.best_score_} using {grid_result.best_params_}')"
      ]
    },
    {
      "cell_type": "code",
      "execution_count": 48,
      "metadata": {},
      "outputs": [],
      "source": [
        "best_params = grid_result.best_params_"
      ]
    },
    {
      "cell_type": "code",
      "execution_count": 49,
      "metadata": {},
      "outputs": [
        {
          "data": {
            "text/plain": [
              "{'batch_size': 64,\n",
              " 'dropout_rate': 0.3,\n",
              " 'epochs': 20,\n",
              " 'learning_rate': 0.001,\n",
              " 'optimizer': 'adam'}"
            ]
          },
          "execution_count": 49,
          "metadata": {},
          "output_type": "execute_result"
        }
      ],
      "source": [
        "best_params"
      ]
    },
    {
      "cell_type": "code",
      "execution_count": 50,
      "metadata": {},
      "outputs": [
        {
          "name": "stdout",
          "output_type": "stream",
          "text": [
            "Epoch 1/20\n",
            "500/500 [==============================] - 3s 4ms/step - loss: 0.4028 - accuracy: 0.8223 - val_loss: 0.3205 - val_accuracy: 0.8627\n",
            "Epoch 2/20\n",
            "500/500 [==============================] - 2s 4ms/step - loss: 0.3009 - accuracy: 0.8742 - val_loss: 0.3205 - val_accuracy: 0.8611\n",
            "Epoch 3/20\n",
            "500/500 [==============================] - 2s 4ms/step - loss: 0.2566 - accuracy: 0.8956 - val_loss: 0.3218 - val_accuracy: 0.8636\n",
            "Epoch 4/20\n",
            "500/500 [==============================] - 2s 4ms/step - loss: 0.2090 - accuracy: 0.9182 - val_loss: 0.3457 - val_accuracy: 0.8614\n",
            "Epoch 5/20\n",
            "500/500 [==============================] - 2s 4ms/step - loss: 0.1590 - accuracy: 0.9412 - val_loss: 0.3845 - val_accuracy: 0.8586\n",
            "Epoch 6/20\n",
            "500/500 [==============================] - 2s 4ms/step - loss: 0.1228 - accuracy: 0.9538 - val_loss: 0.4194 - val_accuracy: 0.8556\n",
            "Epoch 7/20\n",
            "500/500 [==============================] - 2s 4ms/step - loss: 0.0966 - accuracy: 0.9652 - val_loss: 0.5014 - val_accuracy: 0.8540\n",
            "Epoch 8/20\n",
            "500/500 [==============================] - 2s 4ms/step - loss: 0.0802 - accuracy: 0.9708 - val_loss: 0.5383 - val_accuracy: 0.8554\n",
            "Epoch 9/20\n",
            "500/500 [==============================] - 2s 4ms/step - loss: 0.0662 - accuracy: 0.9756 - val_loss: 0.5801 - val_accuracy: 0.8536\n",
            "Epoch 10/20\n",
            "500/500 [==============================] - 2s 4ms/step - loss: 0.0608 - accuracy: 0.9783 - val_loss: 0.5825 - val_accuracy: 0.8559\n",
            "Epoch 11/20\n",
            "500/500 [==============================] - 2s 4ms/step - loss: 0.0494 - accuracy: 0.9829 - val_loss: 0.6288 - val_accuracy: 0.8575\n",
            "Epoch 12/20\n",
            "500/500 [==============================] - 2s 4ms/step - loss: 0.0496 - accuracy: 0.9822 - val_loss: 0.6401 - val_accuracy: 0.8504\n",
            "Epoch 13/20\n",
            "500/500 [==============================] - 2s 4ms/step - loss: 0.0477 - accuracy: 0.9828 - val_loss: 0.6609 - val_accuracy: 0.8555\n",
            "Epoch 14/20\n",
            "500/500 [==============================] - 11s 21ms/step - loss: 0.0413 - accuracy: 0.9852 - val_loss: 0.6561 - val_accuracy: 0.8530\n",
            "Epoch 15/20\n",
            "500/500 [==============================] - 3s 5ms/step - loss: 0.0398 - accuracy: 0.9859 - val_loss: 0.6765 - val_accuracy: 0.8553\n",
            "Epoch 16/20\n",
            "500/500 [==============================] - 2s 4ms/step - loss: 0.0391 - accuracy: 0.9865 - val_loss: 0.6781 - val_accuracy: 0.8568\n",
            "Epoch 17/20\n",
            "500/500 [==============================] - 2s 4ms/step - loss: 0.0340 - accuracy: 0.9885 - val_loss: 0.7084 - val_accuracy: 0.8540\n",
            "Epoch 18/20\n",
            "500/500 [==============================] - 2s 4ms/step - loss: 0.0363 - accuracy: 0.9879 - val_loss: 0.6836 - val_accuracy: 0.8558\n",
            "Epoch 19/20\n",
            "500/500 [==============================] - 2s 4ms/step - loss: 0.0336 - accuracy: 0.9880 - val_loss: 0.7216 - val_accuracy: 0.8535\n",
            "Epoch 20/20\n",
            "500/500 [==============================] - 2s 5ms/step - loss: 0.0300 - accuracy: 0.9892 - val_loss: 0.7148 - val_accuracy: 0.8531\n"
          ]
        }
      ],
      "source": [
        "best_epochs = best_params['epochs']\n",
        "best_batch_size = best_params['batch_size']\n",
        "best_optimizer = best_params['optimizer']\n",
        "best_learning_rate = best_params['learning_rate']\n",
        "best_dropaout_rate = best_params['dropout_rate']\n",
        "# Criando o modelo final com os melhores hiperparâmetros\n",
        "final_model = create_model(optimizer=best_optimizer,learning_rate= best_learning_rate, dropout_rate=best_dropaout_rate)\n",
        "\n",
        "# Treinando o modelo final\n",
        "history_callback = HistoryCallback()\n",
        "history = final_model.fit(x_train, y_train, validation_data=(x_val, y_val), epochs=best_epochs, batch_size=best_batch_size, callbacks=[history_callback])\n"
      ]
    },
    {
      "cell_type": "code",
      "execution_count": 51,
      "metadata": {},
      "outputs": [
        {
          "data": {
            "image/png": "[encoded data removed]",
            "text/plain": [
              "<Figure size 640x480 with 1 Axes>"
            ]
          },
          "metadata": {},
          "output_type": "display_data"
        },
        {
          "data": {
            "image/png": "[encoded data removed]",
            "text/plain": [
              "<Figure size 640x480 with 1 Axes>"
            ]
          },
          "metadata": {},
          "output_type": "display_data"
        }
      ],
      "source": [
        "# Plotar o histórico de treinamento\n",
        "history_df = pd.read_csv('training_history.csv')\n",
        "plt.plot(history_df['loss'], label='loss')\n",
        "plt.plot(history_df['val_loss'], label='val_loss')\n",
        "plt.legend()\n",
        "plt.title('Loss over epochs')\n",
        "plt.show()\n",
        "\n",
        "plt.plot(history_df['accuracy'], label='accuracy')\n",
        "plt.plot(history_df['val_accuracy'], label='val_accuracy')\n",
        "plt.legend()\n",
        "plt.title('Accuracy over epochs')\n",
        "plt.show()\n",
        "\n"
      ]
    },
    {
      "cell_type": "code",
      "execution_count": 52,
      "metadata": {},
      "outputs": [
        {
          "name": "stdout",
          "output_type": "stream",
          "text": [
            "313/313 [==============================] - 1s 2ms/step\n"
          ]
        },
        {
          "data": {
            "image/png": "[encoded data removed]",
            "text/plain": [
              "<Figure size 640x480 with 2 Axes>"
            ]
          },
          "metadata": {},
          "output_type": "display_data"
        }
      ],
      "source": [
        "# Matriz de confusão\n",
        "y_pred = final_model.predict(x_test).astype('int32')\n",
        "cm = confusion_matrix(y_test, y_pred)\n",
        "disp = ConfusionMatrixDisplay(confusion_matrix=cm)\n",
        "disp.plot(cmap='Blues', values_format='.2f')\n",
        "plt.title(\"Confusion Matrix - Neural Network\")\n",
        "plt.show()"
      ]
    },
    {
      "cell_type": "code",
      "execution_count": 53,
      "metadata": {
        "id": "q5jEA5c8jCXP"
      },
      "outputs": [],
      "source": [
        "rev = \"\"\"This movie was so bad. The acting was terrible, the plot was boring and the characters were so annoying. I hated it!\"\"\"\n",
        "\n",
        "f1 = text_clear(rev)\n",
        "f2 = is_special(f1)\n",
        "f3 = to_lower(f2)\n",
        "f4 = rem_stopwords(f3)\n",
        "f5 = stem_txt(f4)"
      ]
    },
    {
      "cell_type": "code",
      "execution_count": 54,
      "metadata": {
        "id": "5cOM7YdQkEhX"
      },
      "outputs": [],
      "source": [
        "bow,words = [], word_tokenize(f5)\n",
        "\n",
        "for word in words:\n",
        "  bow.append(words.count(word))\n",
        "\n",
        "word_dict = cv.vocabulary_\n",
        "pickle.dump(word_dict,open('bow.pkl', 'wb'))"
      ]
    },
    {
      "cell_type": "code",
      "execution_count": 55,
      "metadata": {
        "id": "pBk2XfQElV6j"
      },
      "outputs": [
        {
          "name": "stdout",
          "output_type": "stream",
          "text": [
            "1/1 [==============================] - 0s 136ms/step\n"
          ]
        }
      ],
      "source": [
        "inp = []\n",
        "\n",
        "for i in word_dict:\n",
        "  inp.append(f5.count(i[0]))\n",
        "\n",
        "y_pred = final_model.predict(np.array(inp).reshape(1,1000))"
      ]
    },
    {
      "cell_type": "code",
      "execution_count": 56,
      "metadata": {
        "id": "k_uMZdo6luUS"
      },
      "outputs": [
        {
          "name": "stdout",
          "output_type": "stream",
          "text": [
            "Negative review!\n"
          ]
        }
      ],
      "source": [
        "y_pred\n",
        "\n",
        "if y_pred[0] == 1:\n",
        "    print(\"Positive review!\")\n",
        "else:\n",
        "    print(\"Negative review!\")"
      ]
    },
    {
      "cell_type": "code",
      "execution_count": null,
      "metadata": {},
      "outputs": [],
      "source": []
    }
  ],
  "metadata": {
    "colab": {
      "provenance": []
    },
    "kernelspec": {
      "display_name": "Python 3",
      "name": "python3"
    },
    "language_info": {
      "codemirror_mode": {
        "name": "ipython",
        "version": 3
      },
      "file_extension": ".py",
      "mimetype": "text/x-python",
      "name": "python",
      "nbconvert_exporter": "python",
      "pygments_lexer": "ipython3",
      "version": "3.11.5"
    }
  },
  "nbformat": 4,
  "nbformat_minor": 0
}
